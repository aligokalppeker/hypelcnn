{
  "cells": [
    {
      "cell_type": "markdown",
      "metadata": {
        "id": "zXZDPFIysbWR"
      },
      "source": [
        "# Installation"
      ]
    },
    {
      "cell_type": "code",
      "execution_count": null,
      "metadata": {
        "id": "te-ZBfLLWMH6"
      },
      "outputs": [],
      "source": [
        "# Mount gdrive for data sets\n",
        "import os\n",
        "from google.colab import drive\n",
        "drive.mount('/gdrive')\n",
        "try:\n",
        "  os.symlink('/gdrive/My Drive/PHD/Tez', '/drive')\n",
        "except FileExistsError:\n",
        "  print(\"Seems like already mounted the gdrive, skipping the mounting part.\")\n",
        "\n",
        "# Download source code and copy to mounted drive\n",
        "!rm -f master.zip\n",
        "!wget https://github.com/aligokalppeker/hypelcnn/archive/refs/heads/master.zip\n",
        "!unzip -d /drive/ -o -q master.zip && rm master.zip\n",
        "!rm -rf /drive/hypelcnn/ && mv /drive/hypelcnn-master/ /drive/hypelcnn/\n",
        "\n",
        "# Add source root to python PATH\n",
        "import os\n",
        "os.environ[\"PYTHONPATH\"] += \":/drive/hypelcnn\"\n",
        "!echo $PYTHONPATH\n",
        "\n",
        "# Python package setup\n",
        "%tensorflow_version 1.x\n",
        "!apt-get --assume-yes install libcupti-dev\n",
        "!pip install colour-science\n",
        "!pip install numpy==1.18.5"
      ]
    },
    {
      "cell_type": "markdown",
      "metadata": {
        "id": "vfdTa3tESjZE"
      },
      "source": [
        "# CNN Training and Visualization"
      ]
    },
    {
      "cell_type": "code",
      "execution_count": null,
      "metadata": {
        "id": "eo-vHXUVZB9r"
      },
      "outputs": [],
      "source": [
        "!python -B /drive/hypelcnn/deep_classification_multigpu.py --path=/drive/data --loader_name=GULFPORTALTDataLoader --importer=GeneratorImporter --step=90000 --max_evals=1 --split_count=1 --test_ratio=0 --neighborhood=3 --model_name=CONCNNModelv1 --algorithm_param_path=/drive/hypelcnn/modelconfigs/algorithm_param_output_concnnv1.json --perform_validation --save_checkpoint_steps=10000 --validation_steps=10000 --train_ratio=125 --augmentation_random_threshold=0.50 --augment_data_with_shadow=simple"
      ]
    },
    {
      "cell_type": "code",
      "execution_count": null,
      "metadata": {
        "id": "17I6xmsDW06v"
      },
      "outputs": [],
      "source": [
        "!python -B /drive/hypelcnn/load_checkpoint_calc_accuracy.py --path=/drive/data --loader_name=GULFPORTALTDataLoader --importer=GeneratorImporter --model_name=CONCNNModelv1 --neighborhood=3 --batch_size=4000 --base_log_path=/drive/hypelcnn/log/episode_0/run_0/model.ckpt-0 --output_path=/drive/hypelcnn/log/ --algorithm_param_path=/drive/hypelcnn/modelconfigs/algorithm_param_output_concnnv1.json"
      ]
    },
    {
      "cell_type": "markdown",
      "metadata": {
        "id": "4sknlmMaWlcK"
      },
      "source": [
        "# Classic ML Tests"
      ]
    },
    {
      "cell_type": "code",
      "execution_count": null,
      "metadata": {
        "id": "qdIcd2OiqFN8"
      },
      "outputs": [],
      "source": [
        "!python -B /drive/hypelcnn/classic_ml_trainer.py --path=/drive/data --loader_name=GULFPORTDataLoader --neighborhood=1 --batch_size=20000 --split_count=1"
      ]
    },
    {
      "cell_type": "markdown",
      "metadata": {
        "id": "J7ldL60FHDkf"
      },
      "source": [
        "# Learn Shadow via GAN"
      ]
    },
    {
      "cell_type": "code",
      "execution_count": null,
      "metadata": {
        "id": "3bODGdzfFbYd"
      },
      "outputs": [],
      "source": [
        "!python -B /drive/hypelcnn/gan/gan_train_for_shadow.py --path=/drive/data --use_target_map=False --max_number_of_steps=800000 --loader_name=AVONDataLoader --batch_size=32 --validation_itr_count=1000 --use_identity_loss=False --cycle_consistency_loss_weight=10 --gan_type=cycle_gan --regularization_support_rate=0.0"
      ]
    },
    {
      "cell_type": "code",
      "execution_count": null,
      "metadata": {
        "id": "_XZk6Q4gZpkM"
      },
      "outputs": [],
      "source": [
        "!python -B /drive/hypelcnn/gan/gan_infer_for_shadow.py --path=/drive/data --checkpoint_path=/drive/hypelcnn/gan/log/model.ckpt-3000 --loader_name=AVONDataLoader --neighborhood=0 --gan_type=cycle_gan"
      ]
    },
    {
      "cell_type": "code",
      "execution_count": null,
      "metadata": {
        "id": "kwLuf0apTnRs"
      },
      "outputs": [],
      "source": [
        "!python -B /drive/hypelcnn/gan/gan_infer_image_for_shadow.py --path=/drive/data --checkpoint_path=/drive/hypelcnn/gan/log/model.ckpt-3000 --loader_name=AVONDataLoader --make_them_shadow=shadow --output_path=/drive/hypelcnn/gan/log --convert_all=False --gan_type=cycle_gan"
      ]
    },
    {
      "cell_type": "code",
      "execution_count": null,
      "metadata": {
        "id": "WV_v6KdlLh04",
        "colab": {
          "base_uri": "https://localhost:8080/",
          "height": 17
        },
        "outputId": "0855c409-2c6a-43fd-b113-092d7ef61e5b"
      },
      "outputs": [
        {
          "output_type": "display_data",
          "data": {
            "text/plain": [
              "<IPython.core.display.Javascript object>"
            ],
            "application/javascript": [
              "\n",
              "    async function download(id, filename, size) {\n",
              "      if (!google.colab.kernel.accessAllowed) {\n",
              "        return;\n",
              "      }\n",
              "      const div = document.createElement('div');\n",
              "      const label = document.createElement('label');\n",
              "      label.textContent = `Downloading \"${filename}\": `;\n",
              "      div.appendChild(label);\n",
              "      const progress = document.createElement('progress');\n",
              "      progress.max = size;\n",
              "      div.appendChild(progress);\n",
              "      document.body.appendChild(div);\n",
              "\n",
              "      const buffers = [];\n",
              "      let downloaded = 0;\n",
              "\n",
              "      const channel = await google.colab.kernel.comms.open(id);\n",
              "      // Send a message to notify the kernel that we're ready.\n",
              "      channel.send({})\n",
              "\n",
              "      for await (const message of channel.messages) {\n",
              "        // Send a message to notify the kernel that we're ready.\n",
              "        channel.send({})\n",
              "        if (message.buffers) {\n",
              "          for (const buffer of message.buffers) {\n",
              "            buffers.push(buffer);\n",
              "            downloaded += buffer.byteLength;\n",
              "            progress.value = downloaded;\n",
              "          }\n",
              "        }\n",
              "      }\n",
              "      const blob = new Blob(buffers, {type: 'application/binary'});\n",
              "      const a = document.createElement('a');\n",
              "      a.href = window.URL.createObjectURL(blob);\n",
              "      a.download = filename;\n",
              "      div.appendChild(a);\n",
              "      a.click();\n",
              "      div.remove();\n",
              "    }\n",
              "  "
            ]
          },
          "metadata": {}
        },
        {
          "output_type": "display_data",
          "data": {
            "text/plain": [
              "<IPython.core.display.Javascript object>"
            ],
            "application/javascript": [
              "download(\"download_fe748a62-699b-4f23-8bec-e1a44f946dcc\", \"shadow_image_rgb_shadow_.tif\", 1144364)"
            ]
          },
          "metadata": {}
        }
      ],
      "source": [
        "from google.colab import files\n",
        "files.download('/drive/hypelcnn/gan/log/shadow_image_rgb_shadow_.tif')"
      ]
    },
    {
      "cell_type": "markdown",
      "metadata": {
        "id": "z2b7R_DhPjDR"
      },
      "source": [
        "# SR CycleGAN Training"
      ]
    },
    {
      "cell_type": "code",
      "execution_count": null,
      "metadata": {
        "id": "_hCraHNuPuHk"
      },
      "outputs": [],
      "source": [
        "!python -B /drive/hypelcnn/gan/cycle_gann_sr_train.py --path=/drive/data --batch_size=100 --max_number_of_steps=5000"
      ]
    },
    {
      "cell_type": "code",
      "execution_count": null,
      "metadata": {
        "id": "C2RQU7X0J2iy"
      },
      "outputs": [],
      "source": [
        "!python -B /drive/hypelcnn/gan/sr_gann_inference.py --path=/drive/data --checkpoint_path=/drive/hypelcnn/gan/log/model.ckpt-8375 --output_path=/drive/hypelcnn/gan/log"
      ]
    }
  ],
  "metadata": {
    "accelerator": "GPU",
    "colab": {
      "collapsed_sections": [
        "4sknlmMaWlcK",
        "VaMSEQikp7sq",
        "z2b7R_DhPjDR"
      ],
      "machine_shape": "hm",
      "name": "PHD.ipynb",
      "provenance": []
    },
    "kernelspec": {
      "display_name": "Python 3",
      "name": "python3"
    }
  },
  "nbformat": 4,
  "nbformat_minor": 0
}