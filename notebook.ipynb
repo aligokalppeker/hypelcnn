{
  "cells": [
    {
      "cell_type": "markdown",
      "metadata": {
        "id": "zXZDPFIysbWR",
        "pycharm": {
          "name": "#%% md\n"
        }
      },
      "source": [
        "# Installation"
      ]
    },
    {
      "cell_type": "code",
      "execution_count": 7,
      "metadata": {
        "id": "te-ZBfLLWMH6",
        "pycharm": {
          "name": "#%%\n"
        },
        "colab": {
          "base_uri": "https://localhost:8080/"
        },
        "outputId": "3af35efd-b414-430c-b547-58ce806cc7c6"
      },
      "outputs": [
        {
          "output_type": "stream",
          "name": "stdout",
          "text": [
            "Drive already mounted at /gdrive; to attempt to forcibly remount, call drive.mount(\"/gdrive\", force_remount=True).\n",
            "Seems like already mounted the gdrive, skipping the mounting part.\n",
            "--2022-08-08 08:47:21--  https://github.com/aligokalppeker/hypelcnn/archive/refs/heads/master.zip\n",
            "Resolving github.com (github.com)... 20.205.243.166\n",
            "Connecting to github.com (github.com)|20.205.243.166|:443... connected.\n",
            "HTTP request sent, awaiting response... 302 Found\n",
            "Location: https://codeload.github.com/aligokalppeker/hypelcnn/zip/refs/heads/master [following]\n",
            "--2022-08-08 08:47:21--  https://codeload.github.com/aligokalppeker/hypelcnn/zip/refs/heads/master\n",
            "Resolving codeload.github.com (codeload.github.com)... 20.205.243.165\n",
            "Connecting to codeload.github.com (codeload.github.com)|20.205.243.165|:443... connected.\n",
            "HTTP request sent, awaiting response... 200 OK\n",
            "Length: unspecified [application/zip]\n",
            "Saving to: ‘master.zip’\n",
            "\n",
            "master.zip              [ <=>                ] 135.32K  --.-KB/s    in 0.02s   \n",
            "\n",
            "2022-08-08 08:47:21 (7.38 MB/s) - ‘master.zip’ saved [138564]\n",
            "\n",
            "/env/python:/drive/hypelcnn:/drive/hypelcnn:/drive/hypelcnn:/drive/hypelcnn:/drive/hypelcnn\n",
            "Reading package lists... Done\n",
            "Building dependency tree       \n",
            "Reading state information... Done\n",
            "libcupti-dev is already the newest version (9.1.85-3ubuntu1).\n",
            "The following package was automatically installed and is no longer required:\n",
            "  libnvidia-common-460\n",
            "Use 'apt autoremove' to remove it.\n",
            "0 upgraded, 0 newly installed, 0 to remove and 19 not upgraded.\n",
            "Looking in indexes: https://pypi.org/simple, https://us-python.pkg.dev/colab-wheels/public/simple/\n",
            "Requirement already satisfied: colour-science in /usr/local/lib/python3.7/dist-packages (0.3.16)\n",
            "Requirement already satisfied: imageio in /usr/local/lib/python3.7/dist-packages (from colour-science) (2.9.0)\n",
            "Requirement already satisfied: scipy<2.0.0,>=1.1.0 in /usr/local/lib/python3.7/dist-packages (from colour-science) (1.7.3)\n",
            "Requirement already satisfied: six in /usr/local/lib/python3.7/dist-packages (from colour-science) (1.15.0)\n",
            "Requirement already satisfied: numpy<1.23.0,>=1.16.5 in /usr/local/lib/python3.7/dist-packages (from scipy<2.0.0,>=1.1.0->colour-science) (1.18.5)\n",
            "Requirement already satisfied: pillow in /usr/local/lib/python3.7/dist-packages (from imageio->colour-science) (7.1.2)\n",
            "Looking in indexes: https://pypi.org/simple, https://us-python.pkg.dev/colab-wheels/public/simple/\n",
            "Requirement already satisfied: tensorflow==1.15.5 in /usr/local/lib/python3.7/dist-packages (1.15.5)\n",
            "Requirement already satisfied: keras-applications>=1.0.8 in /usr/local/lib/python3.7/dist-packages (from tensorflow==1.15.5) (1.0.8)\n",
            "Requirement already satisfied: keras-preprocessing>=1.0.5 in /usr/local/lib/python3.7/dist-packages (from tensorflow==1.15.5) (1.1.2)\n",
            "Requirement already satisfied: numpy<1.19.0,>=1.16.0 in /usr/local/lib/python3.7/dist-packages (from tensorflow==1.15.5) (1.18.5)\n",
            "Requirement already satisfied: gast==0.2.2 in /usr/local/lib/python3.7/dist-packages (from tensorflow==1.15.5) (0.2.2)\n",
            "Requirement already satisfied: wrapt>=1.11.1 in /usr/local/lib/python3.7/dist-packages (from tensorflow==1.15.5) (1.14.1)\n",
            "Requirement already satisfied: protobuf>=3.6.1 in /usr/local/lib/python3.7/dist-packages (from tensorflow==1.15.5) (3.17.3)\n",
            "Requirement already satisfied: h5py<=2.10.0 in /usr/local/lib/python3.7/dist-packages (from tensorflow==1.15.5) (2.10.0)\n",
            "Requirement already satisfied: six>=1.10.0 in /usr/local/lib/python3.7/dist-packages (from tensorflow==1.15.5) (1.15.0)\n",
            "Requirement already satisfied: tensorflow-estimator==1.15.1 in /usr/local/lib/python3.7/dist-packages (from tensorflow==1.15.5) (1.15.1)\n",
            "Requirement already satisfied: absl-py>=0.7.0 in /usr/local/lib/python3.7/dist-packages (from tensorflow==1.15.5) (1.2.0)\n",
            "Requirement already satisfied: opt-einsum>=2.3.2 in /usr/local/lib/python3.7/dist-packages (from tensorflow==1.15.5) (3.3.0)\n",
            "Requirement already satisfied: wheel>=0.26 in /usr/local/lib/python3.7/dist-packages (from tensorflow==1.15.5) (0.37.1)\n",
            "Requirement already satisfied: grpcio>=1.8.6 in /usr/local/lib/python3.7/dist-packages (from tensorflow==1.15.5) (1.47.0)\n",
            "Requirement already satisfied: termcolor>=1.1.0 in /usr/local/lib/python3.7/dist-packages (from tensorflow==1.15.5) (1.1.0)\n",
            "Requirement already satisfied: astor>=0.6.0 in /usr/local/lib/python3.7/dist-packages (from tensorflow==1.15.5) (0.8.1)\n",
            "Requirement already satisfied: tensorboard<1.16.0,>=1.15.0 in /usr/local/lib/python3.7/dist-packages (from tensorflow==1.15.5) (1.15.0)\n",
            "Requirement already satisfied: google-pasta>=0.1.6 in /usr/local/lib/python3.7/dist-packages (from tensorflow==1.15.5) (0.2.0)\n",
            "Requirement already satisfied: werkzeug>=0.11.15 in /usr/local/lib/python3.7/dist-packages (from tensorboard<1.16.0,>=1.15.0->tensorflow==1.15.5) (1.0.1)\n",
            "Requirement already satisfied: setuptools>=41.0.0 in /usr/local/lib/python3.7/dist-packages (from tensorboard<1.16.0,>=1.15.0->tensorflow==1.15.5) (57.4.0)\n",
            "Requirement already satisfied: markdown>=2.6.8 in /usr/local/lib/python3.7/dist-packages (from tensorboard<1.16.0,>=1.15.0->tensorflow==1.15.5) (3.4.1)\n",
            "Requirement already satisfied: importlib-metadata>=4.4 in /usr/local/lib/python3.7/dist-packages (from markdown>=2.6.8->tensorboard<1.16.0,>=1.15.0->tensorflow==1.15.5) (4.12.0)\n",
            "Requirement already satisfied: typing-extensions>=3.6.4 in /usr/local/lib/python3.7/dist-packages (from importlib-metadata>=4.4->markdown>=2.6.8->tensorboard<1.16.0,>=1.15.0->tensorflow==1.15.5) (4.1.1)\n",
            "Requirement already satisfied: zipp>=0.5 in /usr/local/lib/python3.7/dist-packages (from importlib-metadata>=4.4->markdown>=2.6.8->tensorboard<1.16.0,>=1.15.0->tensorflow==1.15.5) (3.8.1)\n",
            "Looking in indexes: https://pypi.org/simple, https://us-python.pkg.dev/colab-wheels/public/simple/\n",
            "Requirement already satisfied: tensorflow-gan==2.0.0 in /usr/local/lib/python3.7/dist-packages (2.0.0)\n",
            "Requirement already satisfied: tensorflow-probability>=0.7 in /usr/local/lib/python3.7/dist-packages (from tensorflow-gan==2.0.0) (0.8.0)\n",
            "Requirement already satisfied: tensorflow-hub>=0.2 in /usr/local/lib/python3.7/dist-packages (from tensorflow-gan==2.0.0) (0.12.0)\n",
            "Requirement already satisfied: numpy>=1.12.0 in /usr/local/lib/python3.7/dist-packages (from tensorflow-hub>=0.2->tensorflow-gan==2.0.0) (1.18.5)\n",
            "Requirement already satisfied: protobuf>=3.8.0 in /usr/local/lib/python3.7/dist-packages (from tensorflow-hub>=0.2->tensorflow-gan==2.0.0) (3.17.3)\n",
            "Requirement already satisfied: six>=1.9 in /usr/local/lib/python3.7/dist-packages (from protobuf>=3.8.0->tensorflow-hub>=0.2->tensorflow-gan==2.0.0) (1.15.0)\n",
            "Requirement already satisfied: cloudpickle==1.1.1 in /usr/local/lib/python3.7/dist-packages (from tensorflow-probability>=0.7->tensorflow-gan==2.0.0) (1.1.1)\n",
            "Requirement already satisfied: decorator in /usr/local/lib/python3.7/dist-packages (from tensorflow-probability>=0.7->tensorflow-gan==2.0.0) (4.4.2)\n",
            "Requirement already satisfied: gast<0.3,>=0.2 in /usr/local/lib/python3.7/dist-packages (from tensorflow-probability>=0.7->tensorflow-gan==2.0.0) (0.2.2)\n",
            "Looking in indexes: https://pypi.org/simple, https://us-python.pkg.dev/colab-wheels/public/simple/\n",
            "Requirement already satisfied: tensorflow-probability==0.8.0 in /usr/local/lib/python3.7/dist-packages (0.8.0)\n",
            "Requirement already satisfied: numpy>=1.13.3 in /usr/local/lib/python3.7/dist-packages (from tensorflow-probability==0.8.0) (1.18.5)\n",
            "Requirement already satisfied: gast<0.3,>=0.2 in /usr/local/lib/python3.7/dist-packages (from tensorflow-probability==0.8.0) (0.2.2)\n",
            "Requirement already satisfied: six>=1.10.0 in /usr/local/lib/python3.7/dist-packages (from tensorflow-probability==0.8.0) (1.15.0)\n",
            "Requirement already satisfied: cloudpickle==1.1.1 in /usr/local/lib/python3.7/dist-packages (from tensorflow-probability==0.8.0) (1.1.1)\n",
            "Requirement already satisfied: decorator in /usr/local/lib/python3.7/dist-packages (from tensorflow-probability==0.8.0) (4.4.2)\n",
            "Looking in indexes: https://pypi.org/simple, https://us-python.pkg.dev/colab-wheels/public/simple/\n",
            "Requirement already satisfied: gast==0.2.2 in /usr/local/lib/python3.7/dist-packages (0.2.2)\n",
            "Looking in indexes: https://pypi.org/simple, https://us-python.pkg.dev/colab-wheels/public/simple/\n",
            "Requirement already satisfied: numpy==1.18.5 in /usr/local/lib/python3.7/dist-packages (1.18.5)\n"
          ]
        }
      ],
      "source": [
        "# Mount gdrive for data sets\n",
        "import os\n",
        "from google.colab import drive\n",
        "drive.mount('/gdrive')\n",
        "try:\n",
        "  os.symlink('/gdrive/My Drive/PHD/Tez', '/drive')\n",
        "except FileExistsError:\n",
        "  print(\"Seems like already mounted the gdrive, skipping the mounting part.\")\n",
        "\n",
        "# Download source code and copy to mounted drive\n",
        "!rm -f master.zip\n",
        "!wget https://github.com/aligokalppeker/hypelcnn/archive/refs/heads/master.zip\n",
        "!unzip -d /drive/ -o -q master.zip && rm master.zip\n",
        "!rm -rf /drive/hypelcnn/ && mv /drive/hypelcnn-master/ /drive/hypelcnn/\n",
        "\n",
        "# Add source root to python PATH\n",
        "import os\n",
        "os.environ[\"PYTHONPATH\"] += \":/drive/hypelcnn\"\n",
        "!echo $PYTHONPATH\n",
        "\n",
        "# Python package setup\n",
        "!apt-get --assume-yes install libcupti-dev\n",
        "!pip install colour-science\n",
        "!pip install tensorflow==1.15.5\n",
        "!pip install tensorflow-gan==2.0.0\n",
        "!pip install tensorflow-probability==0.8.0\n",
        "!pip install gast==0.2.2\n",
        "!pip install numpy==1.18.5"
      ]
    },
    {
      "cell_type": "markdown",
      "metadata": {
        "id": "vfdTa3tESjZE",
        "pycharm": {
          "name": "#%% md\n"
        }
      },
      "source": [
        "# CNN Training and Visualization"
      ]
    },
    {
      "cell_type": "code",
      "execution_count": null,
      "metadata": {
        "id": "eo-vHXUVZB9r",
        "pycharm": {
          "name": "#%%\n"
        }
      },
      "outputs": [],
      "source": [
        "!python -B /drive/hypelcnn/classify/train_for_classification.py \\\n",
        "      --path=/drive/data \\\n",
        "      --loader_name=GULFPORTALTDataLoader \\\n",
        "      --importer=GeneratorImporter \\\n",
        "      --step=90000 \\\n",
        "      --max_evals=1 \\\n",
        "      --split_count=1 \\\n",
        "      --test_ratio=0 \\\n",
        "      --neighborhood=3 \\\n",
        "      --model_name=CONCNNModel \\\n",
        "      --algorithm_param_path=/drive/hypelcnn/nnmodel/modelconfigs/alg_param_concnn.json \\\n",
        "      --perform_validation \\\n",
        "      --save_checkpoint_steps=10000 \\\n",
        "      --base_log_path=/drive/class_log \\\n",
        "      --validation_steps=10000 \\\n",
        "      --train_ratio=125 \\\n",
        "      --augmentation_random_threshold=0.50 \\\n",
        "      --augment_data_with_shadow=simple"
      ]
    },
    {
      "cell_type": "code",
      "execution_count": null,
      "metadata": {
        "id": "17I6xmsDW06v",
        "pycharm": {
          "name": "#%%\n"
        }
      },
      "outputs": [],
      "source": [
        "!python -B /drive/hypelcnn/classify/infer_for_classification.py \\\n",
        "      --path=/drive/data \\\n",
        "      --loader_name=GULFPORTALTDataLoader \\\n",
        "      --importer=GeneratorImporter \\\n",
        "      --model_name=CONCNNModel \\\n",
        "      --neighborhood=3 \\\n",
        "      --batch_size=4000 \\\n",
        "      --base_log_path=/drive/class_log/episode_0/run_0/model.ckpt-0 \\\n",
        "      --output_path=/drive/class_log \\\n",
        "      --algorithm_param_path=/drive/hypelcnn/nnmodel/modelconfigs/alg_param_concnn.json"
      ]
    },
    {
      "cell_type": "markdown",
      "metadata": {
        "id": "4sknlmMaWlcK",
        "pycharm": {
          "name": "#%% md\n"
        }
      },
      "source": [
        "# Classic ML Tests"
      ]
    },
    {
      "cell_type": "code",
      "execution_count": null,
      "metadata": {
        "id": "qdIcd2OiqFN8",
        "pycharm": {
          "name": "#%%\n"
        }
      },
      "outputs": [],
      "source": [
        "!python -B /drive/hypelcnn/classify/classic_ml_trainer.py \\\n",
        "      --path=/drive/data \\\n",
        "      --loader_name=GULFPORTDataLoader \\\n",
        "      --neighborhood=1 \\\n",
        "      --batch_size=20000 \\\n",
        "      --split_count=1"
      ]
    },
    {
      "cell_type": "markdown",
      "metadata": {
        "id": "J7ldL60FHDkf",
        "pycharm": {
          "name": "#%% md\n"
        }
      },
      "source": [
        "# Learn Shadow via GAN"
      ]
    },
    {
      "cell_type": "code",
      "execution_count": null,
      "metadata": {
        "id": "3bODGdzfFbYd",
        "pycharm": {
          "name": "#%%\n"
        }
      },
      "outputs": [],
      "source": [
        "!python -B /drive/hypelcnn/gan/gan_train_for_shadow.py \\\n",
        "      --path=/drive/data \\\n",
        "      --base_log_path=/drive/gan_log \\\n",
        "      --use_target_map=False \\\n",
        "      --step=100000 \\\n",
        "      --loader_name=GRSS2103DataLoader \\\n",
        "      --batch_size=32 \\\n",
        "      --validation_steps=1000 \\\n",
        "      --use_identity_loss=False \\\n",
        "      --cycle_consistency_loss_weight=10 \\\n",
        "      --gan_type=cut_x2y \\\n",
        "      --regularization_support_rate=0.0"
      ]
    },
    {
      "cell_type": "code",
      "execution_count": null,
      "metadata": {
        "id": "_XZk6Q4gZpkM",
        "pycharm": {
          "name": "#%%\n"
        }
      },
      "outputs": [],
      "source": [
        "!python -B /drive/hypelcnn/gan/gan_infer_for_shadow.py \\\n",
        "      --path=/drive/data \\\n",
        "      --base_log_path=/drive/gan_log/model.ckpt-0 \\\n",
        "      --loader_name=AVONDataLoader \\\n",
        "      --neighborhood=0 \\\n",
        "      --gan_type=cycle_gan"
      ]
    },
    {
      "cell_type": "code",
      "execution_count": null,
      "metadata": {
        "id": "kwLuf0apTnRs",
        "pycharm": {
          "name": "#%%\n"
        }
      },
      "outputs": [],
      "source": [
        "!python -B /drive/hypelcnn/gan/gan_infer_image_for_shadow.py \\\n",
        "      --path=/drive/data \\\n",
        "      --base_log_path=/drive/gan_log/model.ckpt-0 \\\n",
        "      --output_path=/drive/gan_log \\\n",
        "      --loader_name=AVONDataLoader \\\n",
        "      --make_them_shadow=shadow \\\n",
        "      --convert_all=False \\\n",
        "      --gan_type=cycle_gan"
      ]
    },
    {
      "cell_type": "code",
      "execution_count": null,
      "metadata": {
        "id": "WV_v6KdlLh04",
        "colab": {
          "base_uri": "https://localhost:8080/",
          "height": 17
        },
        "outputId": "0855c409-2c6a-43fd-b113-092d7ef61e5b",
        "pycharm": {
          "name": "#%%\n"
        }
      },
      "outputs": [
        {
          "output_type": "display_data",
          "data": {
            "text/plain": [
              "<IPython.core.display.Javascript object>"
            ],
            "application/javascript": [
              "\n",
              "    async function download(id, filename, size) {\n",
              "      if (!google.colab.kernel.accessAllowed) {\n",
              "        return;\n",
              "      }\n",
              "      const div = document.createElement('div');\n",
              "      const label = document.createElement('label');\n",
              "      label.textContent = `Downloading \"${filename}\": `;\n",
              "      div.appendChild(label);\n",
              "      const progress = document.createElement('progress');\n",
              "      progress.max = size;\n",
              "      div.appendChild(progress);\n",
              "      document.body.appendChild(div);\n",
              "\n",
              "      const buffers = [];\n",
              "      let downloaded = 0;\n",
              "\n",
              "      const channel = await google.colab.kernel.comms.open(id);\n",
              "      // Send a message to notify the kernel that we're ready.\n",
              "      channel.send({})\n",
              "\n",
              "      for await (const message of channel.messages) {\n",
              "        // Send a message to notify the kernel that we're ready.\n",
              "        channel.send({})\n",
              "        if (message.buffers) {\n",
              "          for (const buffer of message.buffers) {\n",
              "            buffers.push(buffer);\n",
              "            downloaded += buffer.byteLength;\n",
              "            progress.value = downloaded;\n",
              "          }\n",
              "        }\n",
              "      }\n",
              "      const blob = new Blob(buffers, {type: 'application/binary'});\n",
              "      const a = document.createElement('a');\n",
              "      a.href = window.URL.createObjectURL(blob);\n",
              "      a.download = filename;\n",
              "      div.appendChild(a);\n",
              "      a.click();\n",
              "      div.remove();\n",
              "    }\n",
              "  "
            ]
          },
          "metadata": {}
        },
        {
          "output_type": "display_data",
          "data": {
            "text/plain": [
              "<IPython.core.display.Javascript object>"
            ],
            "application/javascript": [
              "download(\"download_fe748a62-699b-4f23-8bec-e1a44f946dcc\", \"shadow_image_rgb_shadow_.tif\", 1144364)"
            ]
          },
          "metadata": {}
        }
      ],
      "source": [
        "from google.colab import files\n",
        "files.download('/drive/hypelcnn/gan/log/shadow_image_rgb_shadow_.tif')"
      ]
    },
    {
      "cell_type": "markdown",
      "metadata": {
        "id": "z2b7R_DhPjDR",
        "pycharm": {
          "name": "#%% md\n"
        }
      },
      "source": [
        "# SR CycleGAN Training"
      ]
    },
    {
      "cell_type": "code",
      "execution_count": null,
      "metadata": {
        "id": "_hCraHNuPuHk",
        "pycharm": {
          "name": "#%%\n"
        }
      },
      "outputs": [],
      "source": [
        "!python -B /drive/hypelcnn/gan/cycle_gann_sr_train.py \\\n",
        "      --path=/drive/data \\\n",
        "      --batch_size=100 \\\n",
        "      --max_number_of_steps=5000"
      ]
    },
    {
      "cell_type": "code",
      "execution_count": null,
      "metadata": {
        "id": "C2RQU7X0J2iy",
        "pycharm": {
          "name": "#%%\n"
        }
      },
      "outputs": [],
      "source": [
        "!python -B /drive/hypelcnn/gan/sr_gann_inference.py \\\n",
        "      --path=/drive/data \\\n",
        "      --checkpoint_path=/drive/hypelcnn/gan/log/model.ckpt-0 \\\n",
        "      --output_path=/drive/hypelcnn/gan/log"
      ]
    }
  ],
  "metadata": {
    "accelerator": "GPU",
    "colab": {
      "collapsed_sections": [
        "4sknlmMaWlcK",
        "VaMSEQikp7sq",
        "z2b7R_DhPjDR"
      ],
      "machine_shape": "hm",
      "name": "notebook.ipynb",
      "provenance": []
    },
    "kernelspec": {
      "display_name": "Python 3",
      "name": "python3"
    }
  },
  "nbformat": 4,
  "nbformat_minor": 0
}