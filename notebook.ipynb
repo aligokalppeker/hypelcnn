{
 "cells": [
  {
   "cell_type": "markdown",
   "metadata": {
    "id": "zXZDPFIysbWR",
    "pycharm": {
     "name": "#%% md\n"
    }
   },
   "source": [
    "# Installation"
   ]
  },
  {
   "cell_type": "code",
   "execution_count": null,
   "metadata": {
    "id": "te-ZBfLLWMH6",
    "pycharm": {
     "name": "#%%\n",
     "is_executing": true
    },
    "colab": {
     "base_uri": "https://localhost:8080/"
    },
    "outputId": "3af35efd-b414-430c-b547-58ce806cc7c6"
   },
   "outputs": [],
   "source": [
    "# Mount gdrive for data sets\n",
    "import os\n",
    "from google.colab import drive\n",
    "drive.mount('/gdrive')\n",
    "try:\n",
    "  os.symlink('/gdrive/My Drive/PHD/Tez', '/drive')\n",
    "except FileExistsError:\n",
    "  print(\"Seems like already mounted the gdrive, skipping the mounting part.\")\n",
    "\n",
    "# Download source code and copy to mounted drive\n",
    "!rm -f master.zip\n",
    "!wget https://github.com/aligokalppeker/hypelcnn/archive/refs/heads/master.zip\n",
    "!unzip -d /drive/ -o -q master.zip && rm master.zip\n",
    "!rm -rf /drive/hypelcnn/ && mv /drive/hypelcnn-master/ /drive/hypelcnn/\n",
    "\n",
    "# Add source root to python PATH\n",
    "import os\n",
    "os.environ[\"PYTHONPATH\"] += \":/drive/hypelcnn\"\n",
    "!echo $PYTHONPATH\n",
    "\n",
    "# Package setup\n",
    "!apt-get --assume-yes install libcupti-dev\n",
    "!pip install -r /drive/hypelcnn/requirements.txt"
   ]
  },
  {
   "cell_type": "markdown",
   "metadata": {
    "id": "vfdTa3tESjZE",
    "pycharm": {
     "name": "#%% md\n"
    }
   },
   "source": [
    "# CNN Training and Visualization"
   ]
  },
  {
   "cell_type": "code",
   "execution_count": null,
   "metadata": {
    "id": "eo-vHXUVZB9r",
    "pycharm": {
     "name": "#%%\n"
    }
   },
   "outputs": [],
   "source": [
    "!python -B /drive/hypelcnn/classify/train_for_classification.py \\\n",
    "      --path=/drive/data \\\n",
    "      --loader_name=GULFPORTALTDataLoader \\\n",
    "      --importer=GeneratorImporter \\\n",
    "      --step=90000 \\\n",
    "      --max_evals=1 \\\n",
    "      --split_count=1 \\\n",
    "      --test_ratio=0 \\\n",
    "      --neighborhood=3 \\\n",
    "      --model_name=CONCNNModel \\\n",
    "      --algorithm_param_path=/drive/hypelcnn/nnmodel/modelconfigs/alg_param_concnn.json \\\n",
    "      --perform_validation \\\n",
    "      --save_checkpoint_steps=10000 \\\n",
    "      --base_log_path=/drive/class_log \\\n",
    "      --validation_steps=10000 \\\n",
    "      --train_ratio=125 \\\n",
    "      --augmentation_random_threshold=0.50 \\\n",
    "      --augment_data_with_shadow=simple"
   ]
  },
  {
   "cell_type": "code",
   "execution_count": null,
   "metadata": {
    "id": "17I6xmsDW06v",
    "pycharm": {
     "name": "#%%\n"
    }
   },
   "outputs": [],
   "source": [
    "!python -B /drive/hypelcnn/classify/infer_for_classification.py \\\n",
    "      --path=/drive/data \\\n",
    "      --loader_name=GULFPORTALTDataLoader \\\n",
    "      --importer=GeneratorImporter \\\n",
    "      --model_name=CONCNNModel \\\n",
    "      --neighborhood=3 \\\n",
    "      --batch_size=4000 \\\n",
    "      --base_log_path=/drive/class_log/episode_0/run_0/model.ckpt-0 \\\n",
    "      --output_path=/drive/class_log \\\n",
    "      --algorithm_param_path=/drive/hypelcnn/nnmodel/modelconfigs/alg_param_concnn.json"
   ]
  },
  {
   "cell_type": "markdown",
   "metadata": {
    "id": "4sknlmMaWlcK",
    "pycharm": {
     "name": "#%% md\n"
    }
   },
   "source": [
    "# Classic ML Tests"
   ]
  },
  {
   "cell_type": "code",
   "execution_count": null,
   "metadata": {
    "id": "qdIcd2OiqFN8",
    "pycharm": {
     "name": "#%%\n"
    }
   },
   "outputs": [],
   "source": [
    "!python -B /drive/hypelcnn/classify/classic_ml_trainer.py \\\n",
    "      --path=/drive/data \\\n",
    "      --loader_name=GULFPORTDataLoader \\\n",
    "      --neighborhood=1 \\\n",
    "      --batch_size=20000 \\\n",
    "      --split_count=1"
   ]
  },
  {
   "cell_type": "markdown",
   "metadata": {
    "id": "J7ldL60FHDkf",
    "pycharm": {
     "name": "#%% md\n"
    }
   },
   "source": [
    "# Learn Shadow via GAN"
   ]
  },
  {
   "cell_type": "code",
   "execution_count": null,
   "metadata": {
    "id": "3bODGdzfFbYd",
    "pycharm": {
     "name": "#%%\n"
    }
   },
   "outputs": [],
   "source": [
    "!python -B /drive/hypelcnn/gan/gan_train_for_shadow.py \\\n",
    "      --path=/drive/data \\\n",
    "      --base_log_path=/drive/gan_log \\\n",
    "      --pairing_method=random \\\n",
    "      --step=100000 \\\n",
    "      --loader_name=GRSS2013DataLoader \\\n",
    "      --batch_size=32 \\\n",
    "      --validation_steps=1000 \\\n",
    "      --use_identity_loss=False \\\n",
    "      --cycle_consistency_loss_weight=10 \\\n",
    "      --gan_type=cycle_gan \\\n",
    "      --regularization_support_rate=0.0"
   ]
  },
  {
   "cell_type": "code",
   "execution_count": null,
   "metadata": {
    "id": "kwLuf0apTnRs",
    "pycharm": {
     "name": "#%%\n"
    }
   },
   "outputs": [],
   "source": [
    "!python -B /drive/hypelcnn/gan/gan_infer_image_for_shadow.py \\\n",
    "      --path=/drive/data \\\n",
    "      --base_log_path=/drive/gan_log/model.ckpt-0 \\\n",
    "      --output_path=/drive/gan_log \\\n",
    "      --loader_name=GRSS2013DataLoader \\\n",
    "      --make_them_shadow=shadow \\\n",
    "      --convert_all=False \\\n",
    "      --gan_type=cycle_gan"
   ]
  },
  {
   "cell_type": "code",
   "execution_count": null,
   "outputs": [],
   "source": [
    "!python -B /drive/hypelcnn/gan/gan_train_for_shadow.py \\\n",
    "      --path=/drive/data \\\n",
    "      --base_log_path=/drive/gan_log \\\n",
    "      --pairing_method=random \\\n",
    "      --step=40000 \\\n",
    "      --loader_name=GRSS2013DataLoader \\\n",
    "      --batch_size=32 \\\n",
    "      --validation_steps=1000 \\\n",
    "      --use_identity_loss=True \\\n",
    "      --gan_type=dcl_gan \\\n",
    "      --regularization_support_rate=0.0 \\\n",
    "      --flag_config_file_min=./gan/flags_min.json \\\n",
    "      --flag_config_file_max=./gan/flags_max.json \\\n",
    "      --opt_run_count=3 \\\n",
    "      --opt_trial_count=20"
   ],
   "metadata": {
    "collapsed": false,
    "pycharm": {
     "name": "#%%\n"
    }
   }
  }
 ],
 "metadata": {
  "accelerator": "GPU",
  "colab": {
   "collapsed_sections": [
    "4sknlmMaWlcK",
    "VaMSEQikp7sq",
    "z2b7R_DhPjDR"
   ],
   "machine_shape": "hm",
   "name": "notebook.ipynb",
   "provenance": []
  },
  "kernelspec": {
   "display_name": "Python 3",
   "name": "python3"
  }
 },
 "nbformat": 4,
 "nbformat_minor": 0
}